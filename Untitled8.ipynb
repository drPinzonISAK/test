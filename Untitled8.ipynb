{
  "nbformat": 4,
  "nbformat_minor": 0,
  "metadata": {
    "colab": {
      "name": "Untitled8.ipynb",
      "provenance": [],
      "authorship_tag": "ABX9TyP8Sq/nIv2oJyKE7WIpv4Km",
      "include_colab_link": true
    },
    "kernelspec": {
      "name": "python3",
      "display_name": "Python 3"
    },
    "language_info": {
      "name": "python"
    }
  },
  "cells": [
    {
      "cell_type": "markdown",
      "metadata": {
        "id": "view-in-github",
        "colab_type": "text"
      },
      "source": [
        "<a href=\"https://colab.research.google.com/github/drPinzonISAK/test/blob/master/Untitled8.ipynb\" target=\"_parent\"><img src=\"https://colab.research.google.com/assets/colab-badge.svg\" alt=\"Open In Colab\"/></a>"
      ]
    },
    {
      "cell_type": "markdown",
      "metadata": {
        "id": "84xxtSOcGASJ"
      },
      "source": [
        "# Programming practice #1\n",
        "\n",
        "① Write a program that calculates the addition of all integer numbers from 0 to 2021.\n",
        "\n",
        "$$total = n(n+1)/2$$"
      ]
    },
    {
      "cell_type": "code",
      "metadata": {
        "colab": {
          "base_uri": "https://localhost:8080/"
        },
        "id": "IkcZzhYMF07U",
        "outputId": "10bce502-7e6b-4c0d-c456-f49d65afc66d"
      },
      "source": [
        "# Calcualte the addition of all integers up to n\n",
        "# using the arithmetic sequence\n",
        "\n",
        "# the input function always give us a string. I can use the int() funciton to convert to number\n",
        "n = int( input(\"Please enter an integer larger than zero: \") )\n",
        "\n",
        "total =( n * (n + 1) )/2\n",
        "\n",
        "# using f-string to shown the result\n",
        "print(f\"The total is {total}\")\n",
        "# the classic style\n",
        "print(\"The total is \", total)"
      ],
      "execution_count": 1,
      "outputs": [
        {
          "output_type": "stream",
          "text": [
            "Please enter an integer larger than zero: 8\n",
            "The total is 36.0\n",
            "The total is  36.0\n"
          ],
          "name": "stdout"
        }
      ]
    },
    {
      "cell_type": "markdown",
      "metadata": {
        "id": "1BSc88sIIx1L"
      },
      "source": [
        "② Write a program that calculates the value of y when the user enters a integer x \n",
        "\n",
        "$$y = 2*(x+3) - 3 $$"
      ]
    },
    {
      "cell_type": "code",
      "metadata": {
        "id": "5opyjjD1I46K"
      },
      "source": [
        "# Step 1: get the input from the user\n",
        "# Step 2: convert the input which is string to number\n",
        "# Step 3: asign (save, store) the input to variable x\n",
        "x = int( input(\"Please enter the value for x \"))\n",
        "\n",
        "# Step 4: write the equation for y \n",
        "y = 2 * (x + 3) - 3\n",
        "# Step 5: show the result"
      ],
      "execution_count": null,
      "outputs": []
    },
    {
      "cell_type": "markdown",
      "metadata": {
        "id": "GTOZuXtGLDEJ"
      },
      "source": [
        "③ Write a program that asks the user for his name and grade and outputs the user’s email address at UWC ISAK:\n",
        "\n",
        "Example:\n",
        "\n",
        "Input: \n",
        "name: John Doe\n",
        "\n",
        "grade: 10\n",
        "\n",
        "Output:\n",
        "\n",
        "2024.john.doe@uwcisak.jp"
      ]
    },
    {
      "cell_type": "code",
      "metadata": {
        "colab": {
          "base_uri": "https://localhost:8080/"
        },
        "id": "I_hud5N6LJnY",
        "outputId": "f8f78269-f40c-4b8d-cbc2-08e253f832e6"
      },
      "source": [
        "#Step 1: ask user for first name and then last name, and grade\n",
        "first_name = input(\"Please enter your first name: \")\n",
        "last_name = input(\"Please enter your last name: \")\n",
        "grade = int(input(\"Please enter your grade [10, 11, 12]: \"))\n",
        "\n",
        "#Step 2:\n",
        "# patter recognition\n",
        "# 2024 =>10. you can get this by 2034-10\n",
        "# 2023 =>11. you can get this by 2034-11\n",
        "# 2022 =>12 . you can get this by 2034-12\n",
        "year = 2034 - grade\n",
        "\n",
        "#Step 3\n",
        "print(f\"Your email address is {year}.{first_name}.{last_name}@uwcisak.jp\")\n"
      ],
      "execution_count": 1,
      "outputs": [
        {
          "output_type": "stream",
          "text": [
            "Please enter your first name: john\n",
            "Please enter your last name: doe\n",
            "Please enter your grade [10, 11, 12]: 12\n",
            "Your email address is 2022.john.doe@uwcisak.jp\n"
          ],
          "name": "stdout"
        }
      ]
    }
  ]
}